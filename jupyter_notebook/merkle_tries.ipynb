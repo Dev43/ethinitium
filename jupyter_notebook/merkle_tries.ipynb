{
 "cells": [
  {
   "cell_type": "markdown",
   "metadata": {},
   "source": [
    "# Ethereum Patricia Merkle Tries Explained\n"
   ]
  },
  {
   "cell_type": "code",
   "execution_count": 37,
   "metadata": {},
   "outputs": [],
   "source": [
    "from ethereum import utils\n",
    "import rlp\n",
    "import ethereum.trie as trie\n",
    "import ethereum.db as db\n"
   ]
  },
  {
   "cell_type": "markdown",
   "metadata": {},
   "source": [
    "A merkle patricia trie is a combination of two types of tries: a merkle trie and a special type of radix trie, a patricia trie. This combination makes it easy to add/retrieve stored values and also efficient to provide proof that a specific value exists."
   ]
  },
  {
   "cell_type": "markdown",
   "metadata": {},
   "source": [
    "We will be adding four different keys in our merkle patricia trie, to make it easier for us, the keys will be hex numbers that look very similar"
   ]
  },
  {
   "cell_type": "code",
   "execution_count": 38,
   "metadata": {},
   "outputs": [],
   "source": [
    "first_key = b'\\x01\\x02\\x03'\n",
    "second_key = b'\\x01\\x02\\x04'\n",
    "third_key = b'\\x01\\x02'\n",
    "fourth_key = b'\\x01\\x02\\x03\\x78'\n"
   ]
  },
  {
   "cell_type": "markdown",
   "metadata": {},
   "source": [
    "We define a few functions to be able to print the contents of the trie"
   ]
  },
  {
   "cell_type": "code",
   "execution_count": 39,
   "metadata": {},
   "outputs": [],
   "source": [
    "def print_node_information(t):\n",
    "    print('----------------------------------')\n",
    "    print('root hash:', utils.encode_hex(t.root_hash))\n",
    "    k, v = t.root_node\n",
    "    print ('root node:', [k, v])\n",
    "    print ('root node in hex:', [utils.encode_hex(k), utils.encode_hex(v)])\n",
    "    print ('hp encoded key, in hex:', utils.encode_hex(k))\n",
    "    print('----------------------------------')\n",
    "    print('\\n')\n",
    "\n",
    "def print_node(t):\n",
    "    _, v = t.root_node\n",
    "    node = t._decode_to_node(v)\n",
    "    for i, val in enumerate(node):\n",
    "        toPrint = val\n",
    "        if val == b'':\n",
    "            toPrint = ''\n",
    "            print(\"(\", i,\")\", toPrint, end=\"  \", flush=True)\n",
    "        elif isinstance(val, (list, tuple)):\n",
    "            print(\"( %d ) %s  %s\" % (i, val[0], (val[1])), end=\"  \", flush=True)\n",
    "        else:\n",
    "            toPrint = (val)\n",
    "            print(\"(\", i,\")\", toPrint, end=\"  \", flush=True)\n",
    "\n",
    "    print('')\n"
   ]
  },
  {
   "cell_type": "markdown",
   "metadata": {},
   "source": [
    "We initialize the trie, and validate that the root hash of the trie is the same as the keccack256 hash of the rlp encoded empty string \"\""
   ]
  },
  {
   "cell_type": "code",
   "execution_count": 40,
   "metadata": {
    "scrolled": true
   },
   "outputs": [
    {
     "name": "stdout",
     "output_type": "stream",
     "text": [
      "56e81f171bcc55a6ff8345e692c0f86e5b48e01b996cadc001622fb5e363b421\n",
      "56e81f171bcc55a6ff8345e692c0f86e5b48e01b996cadc001622fb5e363b421\n"
     ]
    }
   ],
   "source": [
    "\n",
    "# Create a Trie with an ephemeral database\n",
    "t = trie.Trie(db.EphemDB())\n",
    "# The trie will be initialized with a blank_node which is the SHA# rlp encoded of \"\"\n",
    "empty_root = t.root_hash\n",
    "print(utils.encode_hex(t.root_hash))\n",
    "# both of these are equivalent:\n",
    "print(utils.encode_hex(utils.sha3rlp(b'')))\n"
   ]
  },
  {
   "cell_type": "markdown",
   "metadata": {},
   "source": [
    "Let's add a key value pair to the trie. For this example, we will add the key \"first\" with value \"node\""
   ]
  },
  {
   "cell_type": "code",
   "execution_count": 41,
   "metadata": {
    "scrolled": true
   },
   "outputs": [
    {
     "name": "stdout",
     "output_type": "stream",
     "text": [
      "4a02922e58e52ef6f66bc1ea3ca4f699558ec488973cfd0ee8a3767a9523418f\n",
      "root node: [b' \\x85first', b'\\x84node']\n",
      "hp encoded key, in hex 20856669727374\n"
     ]
    }
   ],
   "source": [
    "# Let's update our trie by adding a node\n",
    "t.update(rlp.encode(\"first\"), rlp.encode(\"node\"))\n",
    "# Here we notice the root has is changed\n",
    "print(utils.encode_hex(t.root_hash))\n",
    "\n",
    "# Let's get the key and value at the root node\n",
    "k, v = t.root_node\n",
    "# We print it\n",
    "print('root node:', [k, v])\n",
    "print('hp encoded key, in hex', utils.encode_hex(k))\n"
   ]
  },
  {
   "cell_type": "markdown",
   "metadata": {},
   "source": [
    "Notice that the root node hash has changed. Also, we notice that the key and value are directly stored on the root node, no need to traverse the trie to get \"first\""
   ]
  },
  {
   "cell_type": "markdown",
   "metadata": {},
   "source": [
    "Why the [b' \\x85first', b'\\x84node']? This is part of the RLP encoding. \n",
    "\n",
    "The HP specification is rather simple. A nibble is appended to the key that encodes both the terminator status and parity. The lowest significant bit in the nibble encodes parity, while the next lowest encodes terminator status. If the key was in fact even, then we add another nibble, of value 0, to maintain overall evenness (so we can properly represent in bytes).\n",
    "\n"
   ]
  },
  {
   "cell_type": "markdown",
   "metadata": {},
   "source": [
    "Here we get root node: [b' \\x85first', b'\\x84node'] with a hex value of 208466697273 for \"first\"\n",
    "The first 2 bits (20) are important. 2 indicates that it is a terminator node, and the 0 was added to keep the\n",
    "key even.\n",
    "\n",
    "Now same thing with a hex key\n",
    "Let's delete our first node"
   ]
  },
  {
   "cell_type": "markdown",
   "metadata": {},
   "source": [
    "Let's delete the element, leaving us with an empty trie to play around with "
   ]
  },
  {
   "cell_type": "code",
   "execution_count": 42,
   "metadata": {},
   "outputs": [
    {
     "name": "stdout",
     "output_type": "stream",
     "text": [
      "56e81f171bcc55a6ff8345e692c0f86e5b48e01b996cadc001622fb5e363b421\n",
      "True\n"
     ]
    }
   ],
   "source": [
    "t.delete(rlp.encode(\"first\"))\n",
    "print(utils.encode_hex(t.root_hash))\n",
    "# ensure that we have the same root hash\n",
    "print(t.root_hash == empty_root)"
   ]
  },
  {
   "cell_type": "code",
   "execution_count": 43,
   "metadata": {},
   "outputs": [
    {
     "name": "stdout",
     "output_type": "stream",
     "text": [
      "5c81fd48e14e3a07b6f06cba66a0d53f5604a2c40a75563cc120994c8e0f0c27\n",
      "root node: [b' \\x01\\x02\\x03', b'\\x84node']\n",
      "hp encoded key, in hex 20010203\n"
     ]
    }
   ],
   "source": [
    "\n",
    "# Let's update our trie by adding a node\n",
    "t.update(first_key, rlp.encode(\"node\"))\n",
    "# Here we notice the root has is changed\n",
    "print(utils.encode_hex(t.root_hash))\n",
    "\n",
    "# # Let's get the key and value at the root node\n",
    "k, v = t.root_node\n",
    "# # We print it\n",
    "print('root node:', [k, v])\n",
    "print('hp encoded key, in hex', utils.encode_hex(k))"
   ]
  },
  {
   "cell_type": "code",
   "execution_count": 44,
   "metadata": {},
   "outputs": [
    {
     "name": "stdout",
     "output_type": "stream",
     "text": [
      "b'\\x8banotherNode'\n"
     ]
    }
   ],
   "source": [
    "# What happens if you put another value at the same key? We replace it\n",
    "t.update(first_key, rlp.encode(\"anotherNode\"))\n",
    "print(t.get(first_key))\n",
    "\n"
   ]
  },
  {
   "cell_type": "code",
   "execution_count": 47,
   "metadata": {},
   "outputs": [
    {
     "name": "stdout",
     "output_type": "stream",
     "text": [
      "----------------------------------\n",
      "root hash: 3ae6fd5f86a90a008708beb18de52faebb7a7aff40325c22b7899501d980baea\n",
      "root node: [b'\\x10\\x10 ', b'\\xdcJ~G\\xd4En\\xdd\\x0b\\xed^\\xd3\\xd8\\x9b\\xd6\\xdb&]\\rH\\xa9[\\xf2\\xd1s:\\xfdy\\x98\\x1a\\xe7\\x90']\n",
      "root node in hex: ['101020', 'dc4a7e47d4456edd0bed5ed3d89bd6db265d0d48a95bf2d1733afd79981ae790']\n",
      "hp encoded key, in hex: 101020\n",
      "----------------------------------\n",
      "\n",
      "\n"
     ]
    }
   ],
   "source": [
    "# Now let's add to the trie. Let's add a third value\n",
    "t.update(second_key, rlp.encode(\"newentry\"))\n",
    "\n",
    "k, v = t.root_node\n",
    "print_node_information(t)\n"
   ]
  },
  {
   "cell_type": "markdown",
   "metadata": {},
   "source": [
    "\n",
    "Ok now it gets more complex, we've added a new node with a different extension at the end. Extension node!\n",
    "So we see that the value is now a hash, this is a hash of where we can find the node in the DB"
   ]
  },
  {
   "cell_type": "code",
   "execution_count": 48,
   "metadata": {
    "scrolled": true
   },
   "outputs": [
    {
     "name": "stdout",
     "output_type": "stream",
     "text": [
      "True\n"
     ]
    }
   ],
   "source": [
    "print(t._get_node_type(t.root_node) == trie.NODE_TYPE_EXTENSION)"
   ]
  },
  {
   "cell_type": "markdown",
   "metadata": {},
   "source": [
    "Let's get the node using the last value we got:"
   ]
  },
  {
   "cell_type": "code",
   "execution_count": 49,
   "metadata": {},
   "outputs": [
    {
     "name": "stdout",
     "output_type": "stream",
     "text": [
      "( 0 )   ( 1 )   ( 2 )   ( 3 ) b' '  b'\\x8banotherNode'  ( 4 ) b' '  b'\\x88newentry'  ( 5 )   ( 6 )   ( 7 )   ( 8 )   ( 9 )   ( 10 )   ( 11 )   ( 12 )   ( 13 )   ( 14 )   ( 15 )   ( 16 )   \n"
     ]
    }
   ],
   "source": [
    "new_node = t._decode_to_node(v)\n",
    "print_node(t)\n"
   ]
  },
  {
   "cell_type": "markdown",
   "metadata": {},
   "source": [
    "This is our last node, so it should be of type branch"
   ]
  },
  {
   "cell_type": "code",
   "execution_count": 50,
   "metadata": {
    "scrolled": true
   },
   "outputs": [
    {
     "name": "stdout",
     "output_type": "stream",
     "text": [
      "True\n",
      "17\n",
      "[b' ', b'\\x8banotherNode'] [b' ', b'\\x88newentry']\n",
      "010203 010204\n"
     ]
    }
   ],
   "source": [
    "# This is our last node, so it should be of type branch\n",
    "print (t._get_node_type(new_node) == trie.NODE_TYPE_BRANCH)\n",
    "# What we have here is a branch node, a list with 17 entries.\n",
    "print(len(new_node))\n",
    "# Their positions is important, our nodes are at position 3 and 4 in the array, which is the difference between the two keys\n",
    "print(new_node[3], new_node[4])\n",
    "# The keys were:\n",
    "print(utils.encode_hex(first_key), utils.encode_hex(second_key))\n"
   ]
  },
  {
   "cell_type": "markdown",
   "metadata": {},
   "source": [
    "Now let's mess things up, let's add something that has a shorter key"
   ]
  },
  {
   "cell_type": "code",
   "execution_count": 51,
   "metadata": {
    "scrolled": true
   },
   "outputs": [
    {
     "name": "stdout",
     "output_type": "stream",
     "text": [
      "----------------------------------\n",
      "root hash: 884db17039f7443833f478c5c2f64153b3b32794b1267f5f118499631f755d78\n",
      "root node: [b'\\x00\\x01\\x02', b\"\\xad+'E\\x0c\\x8cu\\xe3\\xe7J\\x19\\x06\\xea\\xaaG\\x0e\\xc6\\xb1\\x19\\xc8\\x14\\xe3\\xf1UV\\xe2\\xda\\x8f\\x9b7\\xae9\"]\n",
      "root node in hex: ['000102', 'ad2b27450c8c75e3e74a1906eaaa470ec6b119c814e3f15556e2da8f9b37ae39']\n",
      "hp encoded key, in hex: 000102\n",
      "----------------------------------\n",
      "\n",
      "\n",
      "( 0 ) b'\\xdcJ~G\\xd4En\\xdd\\x0b\\xed^\\xd3\\xd8\\x9b\\xd6\\xdb&]\\rH\\xa9[\\xf2\\xd1s:\\xfdy\\x98\\x1a\\xe7\\x90'  ( 1 )   ( 2 )   ( 3 )   ( 4 )   ( 5 )   ( 6 )   ( 7 )   ( 8 )   ( 9 )   ( 10 )   ( 11 )   ( 12 )   ( 13 )   ( 14 )   ( 15 )   ( 16 ) b'\\x8eanothernewnode'  \n"
     ]
    }
   ],
   "source": [
    "t.update(third_key, rlp.encode('anothernewnode'))\n",
    "k, v = t.root_node\n",
    "print_node_information(t)\n",
    "\n",
    "new_node = t._decode_to_node(v)\n",
    "print_node(t)\n"
   ]
  },
  {
   "cell_type": "markdown",
   "metadata": {},
   "source": [
    "ok so here we see that \"anothernode\" has been saved at the 17th position, thus indicating that there is no more further to go. Now at position 0 (because of 010102, 0 is the next location) is where we have our node hash, so we need to go and get it"
   ]
  },
  {
   "cell_type": "code",
   "execution_count": 52,
   "metadata": {
    "scrolled": true
   },
   "outputs": [
    {
     "name": "stdout",
     "output_type": "stream",
     "text": [
      "( 0 ) b'\\xdcJ~G\\xd4En\\xdd\\x0b\\xed^\\xd3\\xd8\\x9b\\xd6\\xdb&]\\rH\\xa9[\\xf2\\xd1s:\\xfdy\\x98\\x1a\\xe7\\x90'  ( 1 )   ( 2 )   ( 3 )   ( 4 )   ( 5 )   ( 6 )   ( 7 )   ( 8 )   ( 9 )   ( 10 )   ( 11 )   ( 12 )   ( 13 )   ( 14 )   ( 15 )   ( 16 ) b'\\x8eanothernewnode'  \n"
     ]
    }
   ],
   "source": [
    "new_node_hash = new_node[0]\n",
    "lower_node = t._decode_to_node(new_node_hash)\n",
    "print_node(t)\n",
    "# and we get our old node back\n"
   ]
  },
  {
   "cell_type": "markdown",
   "metadata": {},
   "source": [
    "Now let's add 1 last thing, now a longer key"
   ]
  },
  {
   "cell_type": "code",
   "execution_count": 56,
   "metadata": {},
   "outputs": [],
   "source": [
    "t.update(fourth_key, rlp.encode('lastnode'))"
   ]
  },
  {
   "cell_type": "markdown",
   "metadata": {},
   "source": [
    "We print it's information"
   ]
  },
  {
   "cell_type": "code",
   "execution_count": 55,
   "metadata": {},
   "outputs": [
    {
     "ename": "ValueError",
     "evalue": "too many values to unpack (expected 2)",
     "output_type": "error",
     "traceback": [
      "\u001b[0;31m---------------------------------------------------------------------------\u001b[0m",
      "\u001b[0;31mValueError\u001b[0m                                Traceback (most recent call last)",
      "\u001b[0;32m<ipython-input-55-dcf975cc0427>\u001b[0m in \u001b[0;36m<module>\u001b[0;34m()\u001b[0m\n\u001b[0;32m----> 1\u001b[0;31m \u001b[0mk\u001b[0m\u001b[0;34m,\u001b[0m \u001b[0mv\u001b[0m \u001b[0;34m=\u001b[0m \u001b[0mt\u001b[0m\u001b[0;34m.\u001b[0m\u001b[0mroot_node\u001b[0m\u001b[0;34m\u001b[0m\u001b[0m\n\u001b[0m\u001b[1;32m      2\u001b[0m \u001b[0mprint_node_information\u001b[0m\u001b[0;34m(\u001b[0m\u001b[0mt\u001b[0m\u001b[0;34m)\u001b[0m\u001b[0;34m\u001b[0m\u001b[0m\n\u001b[1;32m      3\u001b[0m \u001b[0mnew_node\u001b[0m \u001b[0;34m=\u001b[0m \u001b[0mt\u001b[0m\u001b[0;34m.\u001b[0m\u001b[0m_decode_to_node\u001b[0m\u001b[0;34m(\u001b[0m\u001b[0mv\u001b[0m\u001b[0;34m)\u001b[0m\u001b[0;34m\u001b[0m\u001b[0m\n\u001b[1;32m      4\u001b[0m \u001b[0mprint_node\u001b[0m\u001b[0;34m(\u001b[0m\u001b[0mt\u001b[0m\u001b[0;34m)\u001b[0m\u001b[0;34m\u001b[0m\u001b[0m\n",
      "\u001b[0;31mValueError\u001b[0m: too many values to unpack (expected 2)"
     ]
    }
   ],
   "source": [
    "k, v = t.root_node\n",
    "print_node_information(t)\n",
    "new_node = t._decode_to_node(v)\n",
    "print_node(t)"
   ]
  },
  {
   "cell_type": "markdown",
   "metadata": {},
   "source": [
    "Now we have a new node at position 0 and 4 with the information that we want"
   ]
  },
  {
   "cell_type": "code",
   "execution_count": 53,
   "metadata": {
    "scrolled": false
   },
   "outputs": [
    {
     "name": "stdout",
     "output_type": "stream",
     "text": [
      "----------------------------------\n",
      "root hash: 2277b96cab8210feb20686f36c3ce78b1b33c2b56aa71a990df57f506af3b738\n",
      "root node: [b'\\x00\\x01\\x02', b'\\xf4\\x82r\\x02vb\\xd1=6mG\\xdc\\x13\\x1a\\xb5[\\xcc\\xd9RK\\xa0)\\xac$\\xf6u\\xcc\\xaaq]\\xaa0']\n",
      "root node in hex: ['000102', 'f48272027662d13d366d47dc131ab55bccd9524ba029ac24f675ccaa715daa30']\n",
      "hp encoded key, in hex: 000102\n",
      "----------------------------------\n",
      "\n",
      "\n",
      "( 0 ) b'~\\x80\\xf6\\xec\\xfc\\xa1\\xee\\x12\\x90[\\xb3\\xe8\\xb8\\xa1-?$W\\xd6\\xee\\xc2Xv!M\\xfb\\x12\\xf1\\x87_\\x84\\xdb'  ( 1 )   ( 2 )   ( 3 )   ( 4 )   ( 5 )   ( 6 )   ( 7 )   ( 8 )   ( 9 )   ( 10 )   ( 11 )   ( 12 )   ( 13 )   ( 14 )   ( 15 )   ( 16 ) b'\\x8eanothernewnode'  \n",
      "( 0 ) b'~\\x80\\xf6\\xec\\xfc\\xa1\\xee\\x12\\x90[\\xb3\\xe8\\xb8\\xa1-?$W\\xd6\\xee\\xc2Xv!M\\xfb\\x12\\xf1\\x87_\\x84\\xdb'  ( 1 )   ( 2 )   ( 3 )   ( 4 )   ( 5 )   ( 6 )   ( 7 )   ( 8 )   ( 9 )   ( 10 )   ( 11 )   ( 12 )   ( 13 )   ( 14 )   ( 15 )   ( 16 ) b'\\x8eanothernewnode'  \n",
      "( 0 ) b'~\\x80\\xf6\\xec\\xfc\\xa1\\xee\\x12\\x90[\\xb3\\xe8\\xb8\\xa1-?$W\\xd6\\xee\\xc2Xv!M\\xfb\\x12\\xf1\\x87_\\x84\\xdb'  ( 1 )   ( 2 )   ( 3 )   ( 4 )   ( 5 )   ( 6 )   ( 7 )   ( 8 )   ( 9 )   ( 10 )   ( 11 )   ( 12 )   ( 13 )   ( 14 )   ( 15 )   ( 16 ) b'\\x8eanothernewnode'  \n"
     ]
    }
   ],
   "source": [
    "\n",
    "\n",
    "mid_node = t._decode_to_node(new_node[0])\n",
    "print_node(t)\n",
    "last_node = t._decode_to_node(mid_node[3])\n",
    "print_node(t)"
   ]
  },
  {
   "cell_type": "markdown",
   "metadata": {},
   "source": [
    "Now how the state patricia merkle trie in ethereum works is that the keys are the accounts/contract addresses, so let's add one now with the value \"code\""
   ]
  },
  {
   "cell_type": "code",
   "execution_count": 59,
   "metadata": {
    "scrolled": true
   },
   "outputs": [
    {
     "name": "stdout",
     "output_type": "stream",
     "text": [
      "b'\\xa8864Be2775d392787D5fa37ee1DB45FE0b1B3D1FC'\n",
      "[b'\\xc3\\xb8\\xad\\xe1\\x87\\xfcV@\\xee\\xdem\\xbee\\xb8\\x82\\xdb\\xf8\\xe0\\xc5\\x17\\xfe\\xd4\\xc1@\\x82\\xcd\\xdfzC\\x0c\\xe1\\x18', b'', b'', b'', b'', b'', b'', b'', b'', b'', b\"9\\xec\\x93r|\\x92\\xb9\\xbd1\\xf6K@5q\\xf3D=<\\x1b\\xe8dQ9\\xd3\\xac\\x03jY,&'t\", b'', b'', b'', b'', b'', b'']\n",
      "[b'8864Be2775d392787D5fa37ee1DB45FE0b1B3D1FC', b'\\x84code']\n",
      "True\n"
     ]
    }
   ],
   "source": [
    "address = (utils.coerce_addr_to_hex(utils.remove_0x_head(\"0x864Be2775d392787D5fa37ee1DB45FE0b1B3D1FC\")))\n",
    "print(rlp.encode(address))\n",
    "\n",
    "#rlp endode the address -- the trie wil be significantly longer than expected\n",
    "t.update(rlp.encode(address), rlp.encode('code'))\n",
    "# Root nodes becomes an extension node!\n",
    "print(t.root_node)\n",
    "\n",
    "\n",
    "address_location = t.root_node[10]\n",
    "address_node = t._decode_to_node(address_location)\n",
    "print(address_node)\n",
    "\n",
    "print(t._get_node_type(address_node) == trie.NODE_TYPE_LEAF)"
   ]
  }
 ],
 "metadata": {
  "kernelspec": {
   "display_name": "Python 3",
   "language": "python",
   "name": "python3"
  },
  "language_info": {
   "codemirror_mode": {
    "name": "ipython",
    "version": 3
   },
   "file_extension": ".py",
   "mimetype": "text/x-python",
   "name": "python",
   "nbconvert_exporter": "python",
   "pygments_lexer": "ipython3",
   "version": "3.5.2"
  }
 },
 "nbformat": 4,
 "nbformat_minor": 2
}
