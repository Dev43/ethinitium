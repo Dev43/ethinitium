{
 "cells": [
  {
   "cell_type": "markdown",
   "metadata": {},
   "source": [
    "# Bloom filters in Ethereum"
   ]
  },
  {
   "cell_type": "markdown",
   "metadata": {},
   "source": [
    "### Requirements\n",
    "\n",
    "Python3\n",
    "    \n",
    "    $ pip install ethereum\n",
    "    \n",
    "    $ pip install rlp\n",
    "    \n",
    "    $ pip install jupyter\n",
    "    \n",
    "    $ pip install eth_abi\n"
   ]
  },
  {
   "cell_type": "code",
   "execution_count": 1,
   "metadata": {},
   "outputs": [
    {
     "name": "stdout",
     "output_type": "stream",
     "text": [
      "Requirement already satisfied: ethereum in /usr/local/lib/python3.5/dist-packages (2.3.0)\n",
      "Requirement already satisfied: future in /usr/local/lib/python3.5/dist-packages (from ethereum) (0.16.0)\n",
      "Requirement already satisfied: PyYAML in /home/dev43/.local/lib/python3.5/site-packages (from ethereum) (3.12)\n",
      "Requirement already satisfied: pycryptodome>=3.4.7 in /usr/local/lib/python3.5/dist-packages (from ethereum) (3.4.9)\n",
      "Requirement already satisfied: py-ecc in /usr/local/lib/python3.5/dist-packages (from ethereum) (1.4.2)\n",
      "Requirement already satisfied: pbkdf2 in /usr/local/lib/python3.5/dist-packages (from ethereum) (1.3)\n",
      "Requirement already satisfied: pyethash in /usr/local/lib/python3.5/dist-packages (from ethereum) (0.1.27)\n",
      "Requirement already satisfied: scrypt in /usr/local/lib/python3.5/dist-packages (from ethereum) (0.8.0)\n",
      "Requirement already satisfied: pysha3>=1.0.1 in /home/dev43/.local/lib/python3.5/site-packages (from ethereum) (1.0.2)\n",
      "Requirement already satisfied: rlp>=0.4.7 in /usr/local/lib/python3.5/dist-packages (from ethereum) (0.6.0)\n",
      "Requirement already satisfied: repoze.lru in /home/dev43/.local/lib/python3.5/site-packages (from ethereum) (0.7)\n",
      "\u001b[31mweb3 3.16.5 has requirement requests>=2.12.4, but you'll have requests 2.9.1 which is incompatible.\u001b[0m\n",
      "Requirement already satisfied: ethereum in /usr/local/lib/python3.5/dist-packages (2.3.0)\n",
      "Requirement already satisfied: pbkdf2 in /usr/local/lib/python3.5/dist-packages (from ethereum) (1.3)\n",
      "Requirement already satisfied: rlp>=0.4.7 in /usr/local/lib/python3.5/dist-packages (from ethereum) (0.6.0)\n",
      "Requirement already satisfied: scrypt in /usr/local/lib/python3.5/dist-packages (from ethereum) (0.8.0)\n",
      "Requirement already satisfied: future in /usr/local/lib/python3.5/dist-packages (from ethereum) (0.16.0)\n",
      "Requirement already satisfied: pycryptodome>=3.4.7 in /usr/local/lib/python3.5/dist-packages (from ethereum) (3.4.9)\n",
      "Requirement already satisfied: pysha3>=1.0.1 in /home/dev43/.local/lib/python3.5/site-packages (from ethereum) (1.0.2)\n",
      "Requirement already satisfied: py-ecc in /usr/local/lib/python3.5/dist-packages (from ethereum) (1.4.2)\n",
      "Requirement already satisfied: repoze.lru in /home/dev43/.local/lib/python3.5/site-packages (from ethereum) (0.7)\n",
      "Requirement already satisfied: PyYAML in /home/dev43/.local/lib/python3.5/site-packages (from ethereum) (3.12)\n",
      "Requirement already satisfied: pyethash in /usr/local/lib/python3.5/dist-packages (from ethereum) (0.1.27)\n",
      "\u001b[31mweb3 3.16.5 has requirement requests>=2.12.4, but you'll have requests 2.9.1 which is incompatible.\u001b[0m\n",
      "Requirement already satisfied: eth_abi in /usr/local/lib/python3.5/dist-packages (0.5.0)\n",
      "Requirement already satisfied: eth-utils==0.7.* in /usr/local/lib/python3.5/dist-packages (from eth_abi) (0.7.4)\n",
      "Requirement already satisfied: cytoolz<1.0.0,>=0.8.2 in /usr/local/lib/python3.5/dist-packages (from eth-utils==0.7.*->eth_abi) (0.9.0)\n",
      "Requirement already satisfied: pysha3<2.0.0,>=1.0.0 in /home/dev43/.local/lib/python3.5/site-packages (from eth-utils==0.7.*->eth_abi) (1.0.2)\n",
      "Requirement already satisfied: toolz>=0.8.0 in /usr/local/lib/python3.5/dist-packages (from cytoolz<1.0.0,>=0.8.2->eth-utils==0.7.*->eth_abi) (0.9.0)\n",
      "\u001b[31mweb3 3.16.5 has requirement requests>=2.12.4, but you'll have requests 2.9.1 which is incompatible.\u001b[0m\n",
      "Requirement already satisfied: rlp in /usr/local/lib/python3.5/dist-packages (0.6.0)\n",
      "\u001b[31mweb3 3.16.5 has requirement requests>=2.12.4, but you'll have requests 2.9.1 which is incompatible.\u001b[0m\n"
     ]
    }
   ],
   "source": [
    "# Install a pip package in the current Jupyter kernel\n",
    "import sys\n",
    "\n",
    "!{sys.executable} -m pip install ethereum\n",
    "!{sys.executable} -m pip install ethereum\n",
    "!{sys.executable} -m pip install eth_abi\n",
    "\n",
    "!{sys.executable} -m pip install rlp\n"
   ]
  },
  {
   "cell_type": "code",
   "execution_count": 12,
   "metadata": {},
   "outputs": [],
   "source": [
    "# import abi\n",
    "from ethereum import bloom, utils\n",
    "import eth_abi\n",
    "import rlp\n"
   ]
  },
  {
   "cell_type": "markdown",
   "metadata": {},
   "source": [
    "We define a few functions that will be useful for us, the first one decoding an integer from a hexadecimal and the second one encoding a hex from an int"
   ]
  },
  {
   "cell_type": "markdown",
   "metadata": {},
   "source": [
    "We can visualize an \"empty\" bloom filter as a bitmap of all 0s of length 512"
   ]
  },
  {
   "cell_type": "code",
   "execution_count": 15,
   "metadata": {
    "scrolled": true
   },
   "outputs": [
    {
     "name": "stdout",
     "output_type": "stream",
     "text": [
      "00000000000000000000000000000000000000000000000000000000000000000000000000000000000000000000000000000000000000000000000000000000000000000000000000000000000000000000000000000000000000000000000000000000000000000000000000000000000000000000000000000000000000000000000000000000000000000000000000000000000000000000000000000000000000000000000000000000000000000000000000000000000000000000000000000000000000000000000000000000000000000000000000000000000000000000000000000000000000000000000000000000000000000000000000000000\n",
      "512\n"
     ]
    }
   ],
   "source": [
    "# A \"normal\" bloom filter start, a bitmap with all 0s\n",
    "log_bloom = utils.encode_hex(utils.zpad(utils.int_to_big_endian(0), 256))\n",
    "print(log_bloom)\n",
    "print(len(log_bloom))\n",
    "\n"
   ]
  },
  {
   "cell_type": "markdown",
   "metadata": {},
   "source": [
    "Now we add an element to the bloom filter, we will add an address to it"
   ]
  },
  {
   "cell_type": "code",
   "execution_count": 16,
   "metadata": {
    "scrolled": false
   },
   "outputs": [
    {
     "name": "stdout",
     "output_type": "stream",
     "text": [
      "b'\\x00\\x00\\x00\\x00\\x00\\x00\\x00\\x00\\x00\\x00\\x00\\x00\\x00\\x00\\x00\\x00\\x00\\x00\\x00 \\x00\\x00\\x00\\x00\\x00\\x00\\x00\\x00\\x00\\x00\\x00\\x00\\x00\\x00\\x00\\x00\\x00\\x00\\x00\\x00\\x00\\x00\\x00\\x00\\x00\\x00\\x00\\x00\\x00\\x00\\x00\\x00\\x00\\x00\\x00\\x00\\x00\\x00\\x00\\x00\\x00\\x00\\x00\\x00\\x00\\x00\\x00\\x00\\x00\\x00\\x00\\x00\\x00\\x00\\x00\\x00\\x00\\x00\\x00\\x00\\x00\\x00\\x00\\x00\\x00\\x00\\x00\\x00\\x00\\x00\\x00\\x00\\x00\\x00\\x00\\x00\\x00\\x00\\x00\\x00\\x00\\x00\\x00\\x00\\x00\\x00\\x00\\x00\\x00\\x00\\x00\\x00\\x00\\x00\\x00\\x00\\x00\\x00\\x00\\x00\\x00\\x00\\x00\\x00\\x00\\x00\\x00\\x00\\x00\\x00\\x00\\x00\\x00\\x00\\x00\\x00\\x00\\x00\\x00\\x00\\x00\\x00\\x00\\x00\\x00\\x00\\x00\\x00\\x00\\x00\\x00\\x00\\x00\\x00\\x00\\x00\\x00\\x00\\x00\\x00\\x00\\x00\\x00\\x00\\x00\\x00\\x00\\x00\\x00\\x00\\x00\\x00\\x00\\x00\\x00\\x00\\x00\\x00\\x00\\x00\\x00\\x00\\x00\\x00\\x00\\x00\\x00\\x00\\x00\\x00\\x00\\x00\\x00\\x00\\x00\\x00\\x00\\x00\\x00\\x00\\x00\\x00\\x00\\x00\\x00\\x00\\x00\\x00\\x00\\x00\\x00\\x00\\x00\\x00\\x04\\x00\\x00\\x00\\x00\\x00\\x00\\x00\\x00\\x00\\x08\\x00\\x00\\x00\\x00\\x00\\x00\\x00\\x00\\x00\\x00\\x00\\x00\\x00\\x00\\x00\\x00\\x00\\x00\\x00\\x00\\x00\\x00\\x00\\x00\\x00\\x00\\x00\\x00\\x00\\x00\\x00'\n",
      "00000000000000000000000000000000000000200000000000000000000000000000000000000000000000000000000000000000000000000000000000000000000000000000000000000000000000000000000000000000000000000000000000000000000000000000000000000000000000000000000000000000000000000000000000000000000000000000000000000000000000000000000000000000000000000000000000000000000000000000000000000000000000000000000000000000000000000000000000000000000000000000040000000000000000000800000000000000000000000000000000000000000000000000000000000000\n",
      "True\n"
     ]
    }
   ],
   "source": [
    "encoded_address = utils.decode_hex(utils.remove_0x_head('0x864Be2775d392787D5fa37ee1DB45FE0b1B3D1FC'))\n",
    "# Add an address ot the bloom filter\n",
    "b = bloom.bloom_insert(0, encoded_address)\n",
    "# let's see what we have in hex\n",
    "print(bloom.b64(b))\n",
    "# Turn it into a hex string\n",
    "print(utils.encode_hex(bloom.b64(b)))\n"
   ]
  },
  {
   "cell_type": "markdown",
   "metadata": {},
   "source": [
    "We see that we have 3 entries in the logbloom. How are they determined? \n",
    "\n",
    "We take the hash of the address (keccack256), take the low order 9 bits of the first three double bytes (2 hex numbers) of the hash digest. The numbers that come out are the positions of the bits.\n",
    "\n",
    "Example:\n",
    "\n",
    "bloom(0f572e5295c57f15886f9b263e2f6d2d6c7b5ec6)\n",
    "sha3: bd2b01afcd27800b54d2179edc49e2bffde5078bb6d0b204694169b1643fb108\n",
    "first double-bytes: bd2b, 01af, cd27 -- which leads to bits in bloom --> 299, 431, 295\n",
    "\n",
    "\n",
    "We can check very easily if the address that we passed in is in the set\n"
   ]
  },
  {
   "cell_type": "code",
   "execution_count": 17,
   "metadata": {},
   "outputs": [
    {
     "name": "stdout",
     "output_type": "stream",
     "text": [
      "True\n"
     ]
    }
   ],
   "source": [
    "print(bloom.bloom_query(b, encoded_address))"
   ]
  },
  {
   "cell_type": "markdown",
   "metadata": {},
   "source": [
    "Let's try another one that is not in the set"
   ]
  },
  {
   "cell_type": "code",
   "execution_count": 19,
   "metadata": {},
   "outputs": [
    {
     "name": "stdout",
     "output_type": "stream",
     "text": [
      "False\n"
     ]
    }
   ],
   "source": [
    "other_address = encoded_address = utils.decode_hex(utils.remove_0x_head('0x0f572e5295c57f15886f9b263e2f6d2d6c7b5ec6'))\n",
    "print(bloom.bloom_query(b, encoded_address))"
   ]
  },
  {
   "cell_type": "code",
   "execution_count": 23,
   "metadata": {},
   "outputs": [
    {
     "name": "stdout",
     "output_type": "stream",
     "text": [
      "True\n",
      "False\n"
     ]
    }
   ],
   "source": [
    "new_b = bloom.bloom_insert(b, 1);\n",
    "\n",
    "print(bloom.bloom_query(new_b, '1'))\n",
    "print(bloom.bloom_query(new_b, '2'))"
   ]
  },
  {
   "cell_type": "markdown",
   "metadata": {},
   "source": [
    "What does bloom query do? Takes in the value and adds it to a new 0 bloom and compares the 2 blooms"
   ]
  },
  {
   "cell_type": "code",
   "execution_count": 24,
   "metadata": {
    "scrolled": false
   },
   "outputs": [
    {
     "name": "stdout",
     "output_type": "stream",
     "text": [
      "False\n",
      "True\n"
     ]
    }
   ],
   "source": [
    "    bloom2 = bloom.bloom_insert(0, '2')\n",
    "    print((new_b & bloom2) == bloom2)\n",
    "    bloom3 = bloom.bloom_insert(0, '1')\n",
    "    print((new_b & bloom3) == bloom3)"
   ]
  },
  {
   "cell_type": "markdown",
   "metadata": {},
   "source": [
    "Now let's look at a bloom filter in action for receipts in ethereum. We first use the abi to be able to encode the values. The log entry consists of one topic and a data field. We notice that we have 2 indexed inputs: the to and from address, while the value is not."
   ]
  },
  {
   "cell_type": "code",
   "execution_count": 25,
   "metadata": {},
   "outputs": [],
   "source": [
    "\n",
    "abi = {\n",
    "  \"anonymous\": \"false\",\n",
    "  \"inputs\": [\n",
    "    {\n",
    "      \"indexed\": True,\n",
    "      \"name\": \"from\",\n",
    "      \"type\": \"address\"\n",
    "    },\n",
    "    {\n",
    "      \"indexed\": True,\n",
    "      \"name\": \"to\",\n",
    "      \"type\": \"address\"\n",
    "    },\n",
    "    {\n",
    "      \"indexed\": False,\n",
    "      \"name\": \"value\",\n",
    "      \"type\": \"uint256\"\n",
    "    }\n",
    "  ],\n",
    "  \"name\": \"Transfer\",\n",
    "  \"type\": \"event\"\n",
    "}"
   ]
  },
  {
   "cell_type": "markdown",
   "metadata": {},
   "source": [
    "We add a real world example transaction receipt, one where a user transferred tokens from one address to the other."
   ]
  },
  {
   "cell_type": "code",
   "execution_count": 29,
   "metadata": {},
   "outputs": [],
   "source": [
    "example_receipt = {\n",
    "  \"jsonrpc\": \"2.0\",\n",
    "  \"id\": 1,\n",
    "  \"result\": {\n",
    "    \"blockHash\": \"0xc57ff9020f066420198584aafc2944c8abaac1038e56a3f5a347bbd199111956\",\n",
    "    \"blockNumber\": \"0x54c0fb\",\n",
    "    \"contractAddress\": \"null\",\n",
    "    \"cumulativeGasUsed\": \"0x684a0c\",\n",
    "    \"from\": \"0xcc56dcc36d43341c074f0fc06aec3211cd8f8f44\",\n",
    "    \"gasUsed\": \"0x92c3\",\n",
    "    \"logs\": [{\n",
    "      \"address\": \"0xea38eaa3c86c8f9b751533ba2e562deb9acded40\",\n",
    "      \"topics\": [\"0xddf252ad1be2c89b69c2b068fc378daa952ba7f163c4a11628f55a4df523b3ef\", \"0x000000000000000000000000cc56dcc36d43341c074f0fc06aec3211cd8f8f44\", \"0x0000000000000000000000001c4b70a3968436b9a0a9cf5205c787eb81bb558c\"],\n",
    "      \"data\": \"0x000000000000000000000000000000000000000000000cb28be99bb554a80000\",\n",
    "      \"blockNumber\": \"0x54c0fb\",\n",
    "      \"transactionHash\": \"0x865edf70c0e4b9860a6fe3af62f095ad7f9d3d881ab5ab4dfe3cf8fcead8c843\",\n",
    "      \"transactionIndex\": \"0x3b\",\n",
    "      \"blockHash\": \"0xc57ff9020f066420198584aafc2944c8abaac1038e56a3f5a347bbd199111956\",\n",
    "      \"logIndex\": \"0x9e\",\n",
    "      \"removed\": \"false\"\n",
    "    }],\n",
    "    \"logsBloom\": \"0x00000000000000000000000000000000000000000000000000000000000000100000008000000000000000000100000000000000000000000000000000000000000000000000000000000008001000000000000000000000000000000000000000000000000000000000000000000000200000000000000000000010000000000000000000002000000000000000000000000000000000000000000000000000000000000000000000000000000000000002000000000000000000000000000000000002000000000000000000000000000000000000000000000000004000000000000000000000000080000000000000000000000000000000000000000000\",\n",
    "    \"status\": \"0x1\",\n",
    "    \"to\": \"0xea38eaa3c86c8f9b751533ba2e562deb9acded40\",\n",
    "    \"transactionHash\": \"0x865edf70c0e4b9860a6fe3af62f095ad7f9d3d881ab5ab4dfe3cf8fcead8c843\",\n",
    "    \"transactionIndex\": \"0x3b\"\n",
    "  }\n",
    "}"
   ]
  },
  {
   "cell_type": "markdown",
   "metadata": {},
   "source": [
    "Under \"topics\", we see that we have an array with 3 different elements, one is a hash, and others seems to be encoded data"
   ]
  },
  {
   "cell_type": "code",
   "execution_count": 33,
   "metadata": {},
   "outputs": [
    {
     "name": "stdout",
     "output_type": "stream",
     "text": [
      "['0xddf252ad1be2c89b69c2b068fc378daa952ba7f163c4a11628f55a4df523b3ef', '0x000000000000000000000000cc56dcc36d43341c074f0fc06aec3211cd8f8f44', '0x0000000000000000000000001c4b70a3968436b9a0a9cf5205c787eb81bb558c']\n"
     ]
    }
   ],
   "source": [
    "topics = example_receipt[\"result\"][\"logs\"][0][\"topics\"]\n",
    "print(topics)"
   ]
  },
  {
   "cell_type": "markdown",
   "metadata": {},
   "source": [
    "The first field corresponds to the hash ot the event "
   ]
  },
  {
   "cell_type": "code",
   "execution_count": 38,
   "metadata": {},
   "outputs": [
    {
     "name": "stdout",
     "output_type": "stream",
     "text": [
      "True\n"
     ]
    }
   ],
   "source": [
    "event_hash = '0x' + utils.encode_hex(utils.sha3('Transfer(address,address,uint256)'))\n",
    "print(event_hash == topics[0])\n"
   ]
  },
  {
   "cell_type": "markdown",
   "metadata": {},
   "source": [
    "Now let's retrieve the values that are indexed and not indexed from the abi"
   ]
  },
  {
   "cell_type": "code",
   "execution_count": 42,
   "metadata": {},
   "outputs": [
    {
     "name": "stdout",
     "output_type": "stream",
     "text": [
      "['uint256']\n"
     ]
    }
   ],
   "source": [
    "types = [i['type'] for i in abi['inputs'] if not i['indexed']]\n",
    "print(types)"
   ]
  },
  {
   "cell_type": "markdown",
   "metadata": {},
   "source": [
    "The unindexed type is the value field and it's actual value is located in the data field of the receipt"
   ]
  },
  {
   "cell_type": "code",
   "execution_count": 44,
   "metadata": {},
   "outputs": [
    {
     "name": "stdout",
     "output_type": "stream",
     "text": [
      "(59962000000000000000000,)\n"
     ]
    }
   ],
   "source": [
    "logs = example_receipt[\"result\"][\"logs\"]\n",
    "values = eth_abi.decode_abi(types, logs[0][\"data\"])\n",
    "print(values)"
   ]
  },
  {
   "cell_type": "markdown",
   "metadata": {},
   "source": [
    "Now we do the same with the indexed event variables, but now their value is stored in the topics array that we saw earlier"
   ]
  },
  {
   "cell_type": "code",
   "execution_count": 48,
   "metadata": {
    "scrolled": true
   },
   "outputs": [
    {
     "name": "stdout",
     "output_type": "stream",
     "text": [
      "['from', 'to'] ['0xcc56dcc36d43341c074f0fc06aec3211cd8f8f44', '0x1c4b70a3968436b9a0a9cf5205c787eb81bb558c']\n"
     ]
    }
   ],
   "source": [
    "\n",
    "# indexed ones\n",
    "\n",
    "indexed_types = [i['type'] for i in abi['inputs'] if i['indexed']]\n",
    "\n",
    "indexed_names = [i['name'] for i in abi['inputs'] if i['indexed']]\n",
    "\n",
    "indexed_values = [eth_abi.decode_single(t, v) for t, v in zip(indexed_types, logs[0]['topics'][1:])]\n",
    "\n",
    "print(indexed_names, indexed_values)"
   ]
  },
  {
   "cell_type": "markdown",
   "metadata": {},
   "source": [
    "We then bring it all together into the originial event that happened:"
   ]
  },
  {
   "cell_type": "code",
   "execution_count": 49,
   "metadata": {},
   "outputs": [
    {
     "name": "stdout",
     "output_type": "stream",
     "text": [
      "{'from': '0xcc56dcc36d43341c074f0fc06aec3211cd8f8f44', 'value': 59962000000000000000000, 'to': '0x1c4b70a3968436b9a0a9cf5205c787eb81bb558c'}\n"
     ]
    }
   ],
   "source": [
    "event_info  = {\n",
    "    \"from\": indexed_values[0],\n",
    "    \"to\": indexed_values[1],\n",
    "    \"value\": values[0]\n",
    "}\n",
    "\n",
    "print(event_info)\n",
    "\n",
    "\n",
    "# https://hur.st/bloomfilter/?n=3&p=1.0E-9&m=256&k=\n"
   ]
  }
 ],
 "metadata": {
  "kernelspec": {
   "display_name": "Python 3",
   "language": "python",
   "name": "python3"
  },
  "language_info": {
   "codemirror_mode": {
    "name": "ipython",
    "version": 3
   },
   "file_extension": ".py",
   "mimetype": "text/x-python",
   "name": "python",
   "nbconvert_exporter": "python",
   "pygments_lexer": "ipython3",
   "version": "3.5.2"
  }
 },
 "nbformat": 4,
 "nbformat_minor": 2
}
