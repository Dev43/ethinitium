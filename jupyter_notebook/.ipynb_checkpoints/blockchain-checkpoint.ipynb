{
 "cells": [
  {
   "cell_type": "markdown",
   "metadata": {},
   "source": [
    "# Simple Proof of Work Blockchain example\n",
    "\n",
    "   "
   ]
  },
  {
   "cell_type": "code",
   "execution_count": 2,
   "metadata": {},
   "outputs": [],
   "source": [
    "from ethereum import utils\n",
    "import time, sys\n",
    "\n"
   ]
  },
  {
   "cell_type": "markdown",
   "metadata": {},
   "source": [
    "We first start by defining what a block in the blockchain. In this example, we are highly simplifying all the concepts"
   ]
  },
  {
   "cell_type": "markdown",
   "metadata": {},
   "source": [
    "Simply put, a blockchain block has at least 2 important data structures whithin it, a list of transactions (commonly know as the body) and a block header.\n",
    "\n",
    "The block header has important metadata, namely it has a reference to the last block (hence the linked list aspect of blockchain), it keeps his position number on the linked list and has the nonce solution from the proof of work.\n"
   ]
  },
  {
   "cell_type": "code",
   "execution_count": 4,
   "metadata": {},
   "outputs": [],
   "source": [
    "class Block:\n",
    "  def __init__(self, timestamp, transactions, previous_hash, nonce, block_number):\n",
    "    # Block headers\n",
    "    self.header = {}\n",
    "    self.header[\"timestamp\"] = timestamp\n",
    "    self.header[\"previous_hash\"] = previous_hash\n",
    "    self.header[\"nonce\"] = nonce\n",
    "    self.header[\"block_number\"] = block_number\n",
    "    self.transactions = transactions\n",
    "    self.header[\"hash\"] = self.hash_block()\n",
    "\n",
    "\n",
    "  "
   ]
  },
  {
   "cell_type": "markdown",
   "metadata": {},
   "source": [
    "Further we define a simplyfied hashing function that simply hashes the concatenation of the different elecemtns of the block header along with the transaction list"
   ]
  },
  {
   "cell_type": "code",
   "execution_count": 6,
   "metadata": {},
   "outputs": [],
   "source": [
    "  # Simplified hashing, concatenate the headers and the data and hash\n",
    "  def hash_block(self):\n",
    "    return utils.encode_hex(utils.sha3(str(self.header[\"timestamp\"]) + str(self.header[\"previous_hash\"]) + str(self.transactions) ))"
   ]
  },
  {
   "cell_type": "markdown",
   "metadata": {},
   "source": [
    "Next we define a global function that creates a new block"
   ]
  },
  {
   "cell_type": "code",
   "execution_count": 7,
   "metadata": {},
   "outputs": [],
   "source": [
    "def create_block(txns, previous_hash, nonce, block_number):\n",
    "    # return Block(1525755750, data, previous_hash, nonce)\n",
    "    return Block(time.time().__int__(), txns, previous_hash, nonce, block_number)\n"
   ]
  },
  {
   "cell_type": "markdown",
   "metadata": {},
   "source": [
    "A blockchain is a simple append only linked list of blocks with specific rules as to how to add blocks to it. THe first block is called the genesis block, and is usually where certain accounts are initialized\n"
   ]
  },
  {
   "cell_type": "code",
   "execution_count": 9,
   "metadata": {},
   "outputs": [],
   "source": [
    "class Blockchain:\n",
    "    def __init__(self):\n",
    "        genesis = create_block([\"Genesis\"], utils.encode_hex(utils.sha3(\"\")), 0, 0)\n",
    "        self.blocks = [genesis]\n",
    "    \n",
    "    # Function used to append to blocks\n",
    "    def append_block(self, txns):\n",
    "        previous_block = self.blocks[len(self.blocks) - 1]\n",
    "        # We create a new candidate block\n",
    "        new_block = create_block(txns, previous_block.header[\"hash\"], 0, len(self.blocks))\n",
    "        # Find its proof of work solution\n",
    "        nonce, winning_hash = ProofOfWork(new_block).find_solution()\n",
    "        # update the fields\n",
    "        new_block.header[\"nonce\"] = nonce\n",
    "        new_block.header[\"hash\"] = winning_hash\n",
    "        # and append to the blockchain\n",
    "        return self.blocks.append(new_block)\n",
    "    \n",
    "    # Function used to get a block by its hash\n",
    "    def getBlockByHash(self, target_hash):\n",
    "        for i in range(len(self.blocks) -1, 0, -1):\n",
    "            if self.blocks[i].header[\"hash\"] == target_hash:\n",
    "                return self.blocks[i]\n",
    "        return \"Block not found\""
   ]
  },
  {
   "cell_type": "markdown",
   "metadata": {},
   "source": [
    "To add a block to the blockchain when using the proof of work consensus algorithm, one needs find a nonce that upon hashing the whole block along with the nonce, finds a solution that is under a certain difficulty"
   ]
  },
  {
   "cell_type": "code",
   "execution_count": 10,
   "metadata": {},
   "outputs": [],
   "source": [
    "class ProofOfWork:\n",
    "    def __init__(self, current_block):\n",
    "        target_bits = 12 # can be changed\n",
    "        self.current_block = current_block\n",
    "        self.difficulty =  1 << 256-target_bits\n",
    "\n",
    "    def create_pow_hash(self, nonce):\n",
    "        return  utils.encode_hex(utils.sha3(str(self.current_block.header[\"previous_hash\"]) + str(self.current_block.transactions) + str(self.current_block.header[\"timestamp\"]) + str(nonce)))\n",
    "\n",
    "    def find_solution(self):\n",
    "        nonce = 0\n",
    "        while(True):\n",
    "            pow_hash = self.create_pow_hash(nonce)\n",
    "            hash_int = utils.parse_int_or_hex(\"0x\"+pow_hash)\n",
    "            if hash_int < self.difficulty:\n",
    "                return nonce, pow_hash\n",
    "            nonce += 1\n",
    "        return 0, 0\n",
    "\n"
   ]
  },
  {
   "cell_type": "markdown",
   "metadata": {},
   "source": [
    "Now we need a way to validate a block, ensure that the hash of the block is less than the difficulty"
   ]
  },
  {
   "cell_type": "code",
   "execution_count": 11,
   "metadata": {},
   "outputs": [],
   "source": [
    "def validate_block(block):\n",
    "    pow = ProofOfWork(block)\n",
    "    pow_hash = pow.create_pow_hash(pow.current_block.header[\"nonce\"])\n",
    "    hash_int = utils.parse_int_or_hex(\"0x\"+pow_hash)\n",
    "    return hash_int < pow.difficulty"
   ]
  },
  {
   "cell_type": "code",
   "execution_count": null,
   "metadata": {},
   "outputs": [],
   "source": [
    "We initialize the blockchain, it should have our hard coded genesis block"
   ]
  },
  {
   "cell_type": "code",
   "execution_count": 14,
   "metadata": {
    "scrolled": true
   },
   "outputs": [
    {
     "name": "stdout",
     "output_type": "stream",
     "text": [
      "{'nonce': 0, 'timestamp': 1526521364, 'previous_hash': 'c5d2460186f7233c927e7db2dcc703c0e500b653ca82273b7bfad8045d85a470', 'hash': 'c3d57bcfd0fe249279633fea1140d2c14343bffe3c93e3122846e225a82d2e1d', 'block_number': 0}\n",
      "['Genesis']\n"
     ]
    }
   ],
   "source": [
    "bc = Blockchain()\n",
    "print(bc.blocks[0].header)\n",
    "print(bc.blocks[0].transactions)"
   ]
  },
  {
   "cell_type": "markdown",
   "metadata": {},
   "source": [
    "Let's add a block to it"
   ]
  },
  {
   "cell_type": "code",
   "execution_count": 15,
   "metadata": {},
   "outputs": [
    {
     "name": "stdout",
     "output_type": "stream",
     "text": [
      "{'nonce': 524, 'timestamp': 1526521398, 'previous_hash': 'c3d57bcfd0fe249279633fea1140d2c14343bffe3c93e3122846e225a82d2e1d', 'hash': '000e380639a42d25d41e22a294cbf9cfc36fcd9916a724ce810f7589b7895f7e', 'block_number': 1}\n",
      "['hello']\n"
     ]
    }
   ],
   "source": [
    "bc.append_block([\"hello\"])\n",
    "# print statements...\n",
    "print(bc.blocks[1].header)\n",
    "print(bc.blocks[1].transactions)"
   ]
  },
  {
   "cell_type": "markdown",
   "metadata": {},
   "source": [
    "We add more, and validate that they satisfy the proof of work requirement"
   ]
  },
  {
   "cell_type": "code",
   "execution_count": 16,
   "metadata": {},
   "outputs": [
    {
     "name": "stdout",
     "output_type": "stream",
     "text": [
      "{'nonce': 3263, 'timestamp': 1526521445, 'previous_hash': '000e380639a42d25d41e22a294cbf9cfc36fcd9916a724ce810f7589b7895f7e', 'hash': '00081e027a03a1b2c12df594dd701245da974ee95699448168850ac70cc46b08', 'block_number': 2}\n",
      "{'nonce': 1395, 'timestamp': 1526521445, 'previous_hash': '00081e027a03a1b2c12df594dd701245da974ee95699448168850ac70cc46b08', 'hash': '000140b78982c9d0b4216a9cb99d9cd365c2a43a355b676811ff030b4c24abba', 'block_number': 3}\n",
      "True\n"
     ]
    }
   ],
   "source": [
    "bc.append_block([\"bonjour\"])\n",
    "print(bc.blocks[2].header)\n",
    "bc.append_block([\"hola\"])\n",
    "print(bc.blocks[3].header)\n",
    "print(validate_block(bc.blocks[1]))"
   ]
  },
  {
   "cell_type": "markdown",
   "metadata": {},
   "source": [
    "Now, we have a blockchain, and we can search through it by going through every block until we find the number that we want"
   ]
  },
  {
   "cell_type": "code",
   "execution_count": 18,
   "metadata": {},
   "outputs": [
    {
     "name": "stdout",
     "output_type": "stream",
     "text": [
      "{'nonce': 524, 'timestamp': 1526521398, 'previous_hash': 'c3d57bcfd0fe249279633fea1140d2c14343bffe3c93e3122846e225a82d2e1d', 'hash': '000e380639a42d25d41e22a294cbf9cfc36fcd9916a724ce810f7589b7895f7e', 'block_number': 1}\n"
     ]
    }
   ],
   "source": [
    "search_block = (bc.getBlockByHash(bc.blocks[1].header[\"hash\"]))\n",
    "print(search_block.header)"
   ]
  }
 ],
 "metadata": {
  "kernelspec": {
   "display_name": "Python 2",
   "language": "python",
   "name": "python2"
  },
  "language_info": {
   "codemirror_mode": {
    "name": "ipython",
    "version": 2
   },
   "file_extension": ".py",
   "mimetype": "text/x-python",
   "name": "python",
   "nbconvert_exporter": "python",
   "pygments_lexer": "ipython2",
   "version": "2.7.12"
  }
 },
 "nbformat": 4,
 "nbformat_minor": 2
}
