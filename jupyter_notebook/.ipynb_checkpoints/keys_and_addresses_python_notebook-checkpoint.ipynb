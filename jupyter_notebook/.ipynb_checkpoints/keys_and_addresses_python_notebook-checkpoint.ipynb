{
 "cells": [
  {
   "cell_type": "markdown",
   "metadata": {},
   "source": [
    "# Keys and Addresses Exercises"
   ]
  },
  {
   "cell_type": "markdown",
   "metadata": {},
   "source": [
    "### Requirements\n",
    "\n",
    "    $ pip3 install ethereum\n",
    "    \n",
    "    $ pip3 install bitcoin\n",
    "    \n",
    "    $ pip3 install pycryptodomex\n",
    "    \n",
    "    $ pip3 install jupyter\n"
   ]
  },
  {
   "cell_type": "code",
   "execution_count": 4,
   "metadata": {},
   "outputs": [],
   "source": [
    "# Import libraries\n",
    "\n",
    "import sys\n",
    "\n",
    "# Vitalik Buterin's Python Library for Bitcoin\n",
    "# No longer maintained!\n",
    "# https://pypi.python.org/pypi/bitcoin/1.1.42\n",
    "import bitcoin\n",
    "\n",
    "# Vitalik Buterin's Python Library for Ethereum\n",
    "# https://github.com/ethereum/pyethereum\n",
    "import ethereum\n",
    "\n",
    "# pysha3 package - SHA-3 (Keccak) for Python 2.7 - 3.5\n",
    "# The sha3 module monkey patches the hashlib module.\n",
    "# The monkey patch is automatically activated with the first import of the sha3 module.\n",
    "if sys.version_info < (3, 6):\n",
    "    import sha3\n",
    "\n",
    "# Wrong source of SHA3 (FIPS-202 not Keccak-256)\n",
    "from hashlib import sha3_256 as hashlib_sha3\n",
    "\n",
    "# Both FIP-202 SHA-3 and Keccak-256 from pycryptodomex\n",
    "from Crypto.Hash import SHA3_256 as crypto_sha3\n",
    "from Crypto.Hash import keccak as crypto_keccak\n",
    "\n",
    "# Ethereum library implements Keccak, but calls it sha3\n",
    "from ethereum.utils import sha3 as keccak256\n",
    "\n",
    "from rlp.utils import decode_hex, encode_hex\n"
   ]
  },
  {
   "cell_type": "markdown",
   "metadata": {},
   "source": [
    "We supply a valid private key (in hex format)"
   ]
  },
  {
   "cell_type": "code",
   "execution_count": 8,
   "metadata": {},
   "outputs": [],
   "source": [
    "privkey_hex = \"f8f8a2f43c8376ccb0871305060d7b27b0554d2cc72bccf41b2705608452f315\"\n",
    "privkey_hex = encode_hex(keccak256(b\"\"))"
   ]
  },
  {
   "cell_type": "code",
   "execution_count": 9,
   "metadata": {},
   "outputs": [],
   "source": [
    "privkey = decode_hex(privkey_hex)"
   ]
  },
  {
   "cell_type": "code",
   "execution_count": 10,
   "metadata": {},
   "outputs": [],
   "source": [
    "# Use pybitcointools (bitcoin) library's elliptic curve functions to calculate the public key\n",
    "\n",
    "pubkey = bitcoin.privtopub(privkey)"
   ]
  },
  {
   "cell_type": "code",
   "execution_count": 11,
   "metadata": {},
   "outputs": [],
   "source": [
    "pubkey_hex = encode_hex(pubkey)"
   ]
  },
  {
   "cell_type": "code",
   "execution_count": 12,
   "metadata": {},
   "outputs": [
    {
     "name": "stdout",
     "output_type": "stream",
     "text": [
      "Public Key: 04a63a07e888061ec9e8b64a3dc2937805c76089af36459305920373cd98a9f4ce15c27dbbe60928161eb62ae19f94ea48f399ce85e6db698520f3bcd4a9257157\n"
     ]
    }
   ],
   "source": [
    "print(\"Public Key: \" + pubkey_hex)"
   ]
  },
  {
   "cell_type": "code",
   "execution_count": 13,
   "metadata": {},
   "outputs": [
    {
     "name": "stdout",
     "output_type": "stream",
     "text": [
      "x (hex) : a63a07e888061ec9e8b64a3dc2937805c76089af36459305920373cd98a9f4ce\n",
      "y (hex) : 15c27dbbe60928161eb62ae19f94ea48f399ce85e6db698520f3bcd4a9257157\n",
      "x (int) :  75186464575836410473287205396484853935189413272586444594678669399160567493838\n",
      "y (int) :  9842205934844570178815218258794155135834170465697525952010120543940062310743\n"
     ]
    }
   ],
   "source": [
    "pubkey_without_prefix = pubkey_hex[2:]\n",
    "x_hex = pubkey_without_prefix[:64]\n",
    "y_hex = pubkey_without_prefix[64:]\n",
    "print(\"x (hex) : \" + x_hex)\n",
    "print(\"y (hex) : \" + y_hex)\n",
    "\n",
    "x = int(x_hex, 16)\n",
    "y = int(y_hex, 16)\n",
    "print(\"x (int) : \", x)\n",
    "print(\"y (int) : \", y)"
   ]
  },
  {
   "cell_type": "code",
   "execution_count": 14,
   "metadata": {},
   "outputs": [
    {
     "data": {
      "text/plain": [
       "0"
      ]
     },
     "execution_count": 14,
     "metadata": {},
     "output_type": "execute_result"
    }
   ],
   "source": [
    "# Prove pubkey is a point on the curve\n",
    "\n",
    "# p is the prime order of the elliptic curve field\n",
    "p = 115792089237316195423570985008687907853269984665640564039457584007908834671663\n",
    "\n",
    "(x ** 3 + 7 - y**2) % p"
   ]
  },
  {
   "cell_type": "code",
   "execution_count": 15,
   "metadata": {},
   "outputs": [
    {
     "name": "stdout",
     "output_type": "stream",
     "text": [
      "c5d2460186f7233c927e7db2dcc703c0e500b653ca82273b7bfad8045d85a470\n",
      "Hash Function is Keccak-256\n"
     ]
    }
   ],
   "source": [
    "# Which \"SHA3\" am I using?\n",
    "\n",
    "# Uncomment below to try various options\n",
    "#test_hash = hashlib_sha3(b\"\").hexdigest()\n",
    "#test_hash = crypto_sha3.new(b\"\").hexdigest()\n",
    "#test_hash = crypto_keccak.new(digest_bits=256, data=b\"\").hexdigest()\n",
    "test_hash = encode_hex(keccak256(b\"\"))\n",
    "\n",
    "\n",
    "print(test_hash)\n",
    "\n",
    "if test_hash == \"c5d2460186f7233c927e7db2dcc703c0e500b653ca82273b7bfad8045d85a470\":\n",
    "    print(\"Hash Function is Keccak-256\")\n",
    "elif test_hash == \"a7ffc6f8bf1ed76651c14756a061d662f580ff4de43b49fa82d80a4b80f8434a\":\n",
    "    print(\"Hash Function is FIP-202 SHA-3\")\n",
    "else: \n",
    "    print(\"Oops! Can't identify SHA3\")\n",
    "\n"
   ]
  },
  {
   "cell_type": "code",
   "execution_count": 16,
   "metadata": {},
   "outputs": [
    {
     "name": "stdout",
     "output_type": "stream",
     "text": [
      "Public Key Hash: df664eb7d556d43ab79162859cce34f7ab185c7aba1b7c8140d620b4bda941d6\n"
     ]
    }
   ],
   "source": [
    "hex_hash = encode_hex(keccak256(decode_hex(pubkey_without_prefix)))\n",
    "print (\"Public Key Hash: \" + hex_hash)"
   ]
  },
  {
   "cell_type": "code",
   "execution_count": 17,
   "metadata": {},
   "outputs": [
    {
     "name": "stdout",
     "output_type": "stream",
     "text": [
      "Ethereum Address: 0x9cce34f7ab185c7aba1b7c8140d620b4bda941d6\n"
     ]
    }
   ],
   "source": [
    "address = hex_hash[24:]\n",
    "print(\"Ethereum Address: 0x\" + address)"
   ]
  },
  {
   "cell_type": "code",
   "execution_count": 14,
   "metadata": {},
   "outputs": [
    {
     "name": "stdout",
     "output_type": "stream",
     "text": [
      "23a69c1653e4ebbb619b0b2cb8a9bad49892a8b9695d9a19d8f673ca991deae1\n"
     ]
    }
   ],
   "source": [
    "# Let's calculate the EIP-55 mixed-capitalization checksum address\n",
    "# Take the lower-case address and hash it again, to produce a checksum\n",
    "\n",
    "address_hash_hex = encode_hex(keccak256(address))\n",
    "print(address_hash_hex)"
   ]
  },
  {
   "cell_type": "code",
   "execution_count": 15,
   "metadata": {},
   "outputs": [
    {
     "name": "stdout",
     "output_type": "stream",
     "text": [
      "EIP-55 encoded Ethereum Address: 0x001d3F1ef827552Ae1114027BD3ECF1f086bA0F9\n"
     ]
    }
   ],
   "source": [
    "# Simple implementation of EIP-55\n",
    "# For every alphabetic character of the address, \n",
    "# capitalize it if the corresponding character of the hash is greater than 8, \n",
    "\n",
    "a = \"\"\n",
    "for i, c in enumerate(address):\n",
    "    if c in '0123456789':\n",
    "        a = a + c \n",
    "    elif int(address_hash_hex[i], 16) >= 8:\n",
    "        a = a + c.upper()\n",
    "    else:\n",
    "        a = a + c.lower()\n",
    "        \n",
    "print(\"EIP-55 encoded Ethereum Address: 0x\"+a)"
   ]
  },
  {
   "cell_type": "code",
   "execution_count": null,
   "metadata": {},
   "outputs": [],
   "source": []
  }
 ],
 "metadata": {
  "kernelspec": {
   "display_name": "Python 3",
   "language": "python",
   "name": "python3"
  },
  "language_info": {
   "codemirror_mode": {
    "name": "ipython",
    "version": 3
   },
   "file_extension": ".py",
   "mimetype": "text/x-python",
   "name": "python",
   "nbconvert_exporter": "python",
   "pygments_lexer": "ipython3",
   "version": "3.5.2"
  }
 },
 "nbformat": 4,
 "nbformat_minor": 2
}
