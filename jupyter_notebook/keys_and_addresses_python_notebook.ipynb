{
 "cells": [
  {
   "cell_type": "markdown",
   "metadata": {},
   "source": [
    "# Keys and Addresses Exercises"
   ]
  },
  {
   "cell_type": "markdown",
   "metadata": {},
   "source": [
    "### Requirements\n",
    "\n",
    "    $ pip3 install ethereum\n",
    "    \n",
    "    $ pip3 install bitcoin\n",
    "    \n",
    "    $ pip3 install pycryptodomex\n",
    "    \n",
    "    $ pip3 install jupyter\n"
   ]
  },
  {
   "cell_type": "code",
   "execution_count": 4,
   "metadata": {},
   "outputs": [],
   "source": [
    "# Import libraries\n",
    "\n",
    "import sys\n",
    "\n",
    "# Vitalik Buterin's Python Library for Bitcoin\n",
    "# No longer maintained!\n",
    "# https://pypi.python.org/pypi/bitcoin/1.1.42\n",
    "import bitcoin\n",
    "\n",
    "# Vitalik Buterin's Python Library for Ethereum\n",
    "# https://github.com/ethereum/pyethereum\n",
    "import ethereum\n",
    "\n",
    "# pysha3 package - SHA-3 (Keccak) for Python 2.7 - 3.5\n",
    "# The sha3 module monkey patches the hashlib module.\n",
    "# The monkey patch is automatically activated with the first import of the sha3 module.\n",
    "if sys.version_info < (3, 6):\n",
    "    import sha3\n",
    "\n",
    "# Wrong source of SHA3 (FIPS-202 not Keccak-256)\n",
    "from hashlib import sha3_256 as hashlib_sha3\n",
    "\n",
    "# Both FIP-202 SHA-3 and Keccak-256 from pycryptodomex\n",
    "from Crypto.Hash import SHA3_256 as crypto_sha3\n",
    "from Crypto.Hash import keccak as crypto_keccak\n",
    "\n",
    "# Ethereum library implements Keccak, but calls it sha3\n",
    "from ethereum.utils import sha3 as keccak256\n",
    "\n",
    "from rlp.utils import decode_hex, encode_hex\n"
   ]
  },
  {
   "cell_type": "markdown",
   "metadata": {},
   "source": [
    "We supply a valid private key (in hex format)"
   ]
  },
  {
   "cell_type": "code",
   "execution_count": 19,
   "metadata": {},
   "outputs": [],
   "source": [
    "privkey_hex = \"f8f8a2f43c8376ccb0871305060d7b27b0554d2cc72bccf41b2705608452f315\"\n",
    "privkey_hex = encode_hex(keccak256(b\"0\"))"
   ]
  },
  {
   "cell_type": "code",
   "execution_count": 20,
   "metadata": {},
   "outputs": [],
   "source": [
    "privkey = decode_hex(privkey_hex)"
   ]
  },
  {
   "cell_type": "code",
   "execution_count": 21,
   "metadata": {},
   "outputs": [],
   "source": [
    "# Use pybitcointools (bitcoin) library's elliptic curve functions to calculate the public key\n",
    "\n",
    "pubkey = bitcoin.privtopub(privkey)"
   ]
  },
  {
   "cell_type": "code",
   "execution_count": 22,
   "metadata": {},
   "outputs": [],
   "source": [
    "pubkey_hex = encode_hex(pubkey)"
   ]
  },
  {
   "cell_type": "code",
   "execution_count": 23,
   "metadata": {},
   "outputs": [
    {
     "name": "stdout",
     "output_type": "stream",
     "text": [
      "Public Key: 04d67104e65b61fca1fc73a74175667c11f16c037fa8e414499189df9d68706aca6e1a1b4ea02b702f101eb609c4cd2964d4790047a06458ba8a1a19040ab1fe0d\n"
     ]
    }
   ],
   "source": [
    "print(\"Public Key: \" + pubkey_hex)"
   ]
  },
  {
   "cell_type": "code",
   "execution_count": 24,
   "metadata": {},
   "outputs": [
    {
     "name": "stdout",
     "output_type": "stream",
     "text": [
      "x (hex) : d67104e65b61fca1fc73a74175667c11f16c037fa8e414499189df9d68706aca\n",
      "y (hex) : 6e1a1b4ea02b702f101eb609c4cd2964d4790047a06458ba8a1a19040ab1fe0d\n",
      "x (int) :  96994637132535813140580960719815835414464994897665158999171667310059042400970\n",
      "y (int) :  49800539834738580210047339881242396298985681407901361833723082549952511081997\n"
     ]
    }
   ],
   "source": [
    "pubkey_without_prefix = pubkey_hex[2:]\n",
    "x_hex = pubkey_without_prefix[:64]\n",
    "y_hex = pubkey_without_prefix[64:]\n",
    "print(\"x (hex) : \" + x_hex)\n",
    "print(\"y (hex) : \" + y_hex)\n",
    "\n",
    "x = int(x_hex, 16)\n",
    "y = int(y_hex, 16)\n",
    "print(\"x (int) : \", x)\n",
    "print(\"y (int) : \", y)"
   ]
  },
  {
   "cell_type": "code",
   "execution_count": 25,
   "metadata": {},
   "outputs": [
    {
     "data": {
      "text/plain": [
       "0"
      ]
     },
     "execution_count": 25,
     "metadata": {},
     "output_type": "execute_result"
    }
   ],
   "source": [
    "# Prove pubkey is a point on the curve\n",
    "\n",
    "# p is the prime order of the elliptic curve field\n",
    "p = 115792089237316195423570985008687907853269984665640564039457584007908834671663\n",
    "\n",
    "(x ** 3 + 7 - y**2) % p"
   ]
  },
  {
   "cell_type": "code",
   "execution_count": 26,
   "metadata": {},
   "outputs": [
    {
     "name": "stdout",
     "output_type": "stream",
     "text": [
      "c5d2460186f7233c927e7db2dcc703c0e500b653ca82273b7bfad8045d85a470\n",
      "Hash Function is Keccak-256\n"
     ]
    }
   ],
   "source": [
    "# Which \"SHA3\" am I using?\n",
    "\n",
    "# Uncomment below to try various options\n",
    "#test_hash = hashlib_sha3(b\"\").hexdigest()\n",
    "#test_hash = crypto_sha3.new(b\"\").hexdigest()\n",
    "#test_hash = crypto_keccak.new(digest_bits=256, data=b\"\").hexdigest()\n",
    "test_hash = encode_hex(keccak256(b\"\"))\n",
    "\n",
    "\n",
    "print(test_hash)\n",
    "\n",
    "if test_hash == \"c5d2460186f7233c927e7db2dcc703c0e500b653ca82273b7bfad8045d85a470\":\n",
    "    print(\"Hash Function is Keccak-256\")\n",
    "elif test_hash == \"a7ffc6f8bf1ed76651c14756a061d662f580ff4de43b49fa82d80a4b80f8434a\":\n",
    "    print(\"Hash Function is FIP-202 SHA-3\")\n",
    "else: \n",
    "    print(\"Oops! Can't identify SHA3\")\n",
    "\n"
   ]
  },
  {
   "cell_type": "code",
   "execution_count": 27,
   "metadata": {},
   "outputs": [
    {
     "name": "stdout",
     "output_type": "stream",
     "text": [
      "Public Key Hash: b06df7bdf02832a7fbe69a6982a978b3f5962a5b0957d9ee9eef472ee55b42f1\n"
     ]
    }
   ],
   "source": [
    "hex_hash = encode_hex(keccak256(decode_hex(pubkey_without_prefix)))\n",
    "print (\"Public Key Hash: \" + hex_hash)"
   ]
  },
  {
   "cell_type": "code",
   "execution_count": 28,
   "metadata": {},
   "outputs": [
    {
     "name": "stdout",
     "output_type": "stream",
     "text": [
      "Ethereum Address: 0x82a978b3f5962a5b0957d9ee9eef472ee55b42f1\n"
     ]
    }
   ],
   "source": [
    "address = hex_hash[24:]\n",
    "print(\"Ethereum Address: 0x\" + address)"
   ]
  },
  {
   "cell_type": "code",
   "execution_count": 29,
   "metadata": {},
   "outputs": [
    {
     "name": "stdout",
     "output_type": "stream",
     "text": [
      "9299fdc755971d50d79b3a1393e6ad48a2ef30b4d85884936bb78672e2c38792\n"
     ]
    }
   ],
   "source": [
    "# Let's calculate the EIP-55 mixed-capitalization checksum address\n",
    "# Take the lower-case address and hash it again, to produce a checksum\n",
    "\n",
    "address_hash_hex = encode_hex(keccak256(address))\n",
    "print(address_hash_hex)"
   ]
  },
  {
   "cell_type": "code",
   "execution_count": 30,
   "metadata": {},
   "outputs": [
    {
     "name": "stdout",
     "output_type": "stream",
     "text": [
      "EIP-55 encoded Ethereum Address: 0x82A978B3f5962A5b0957d9ee9eEf472EE55B42F1\n"
     ]
    }
   ],
   "source": [
    "# Simple implementation of EIP-55\n",
    "# For every alphabetic character of the address, \n",
    "# capitalize it if the corresponding character of the hash is greater than 8, \n",
    "\n",
    "a = \"\"\n",
    "for i, c in enumerate(address):\n",
    "    if c in '0123456789':\n",
    "        a = a + c \n",
    "    elif int(address_hash_hex[i], 16) >= 8:\n",
    "        a = a + c.upper()\n",
    "    else:\n",
    "        a = a + c.lower()\n",
    "        \n",
    "print(\"EIP-55 encoded Ethereum Address: 0x\"+a)"
   ]
  },
  {
   "cell_type": "code",
   "execution_count": null,
   "metadata": {},
   "outputs": [],
   "source": []
  }
 ],
 "metadata": {
  "kernelspec": {
   "display_name": "Python 3",
   "language": "python",
   "name": "python3"
  },
  "language_info": {
   "codemirror_mode": {
    "name": "ipython",
    "version": 3
   },
   "file_extension": ".py",
   "mimetype": "text/x-python",
   "name": "python",
   "nbconvert_exporter": "python",
   "pygments_lexer": "ipython3",
   "version": "3.5.2"
  }
 },
 "nbformat": 4,
 "nbformat_minor": 2
}
